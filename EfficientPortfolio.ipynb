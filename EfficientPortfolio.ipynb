{
  "nbformat": 4,
  "nbformat_minor": 0,
  "metadata": {
    "colab": {
      "provenance": [],
      "toc_visible": true
    },
    "kernelspec": {
      "name": "python3",
      "display_name": "Python 3"
    }
  },
  "cells": [
    {
      "cell_type": "markdown",
      "source": [
        "<h1>Efficient Portfolio Construction</h1>\n",
        "<h4>Blake Rayvid - <a href=https://github.com/brayvid>https://github.com/brayvid</a></h4>"
      ],
      "metadata": {
        "id": "rKwjLdjDHy4F"
      }
    },
    {
      "cell_type": "markdown",
      "metadata": {
        "id": "7A2kHYiRlGCd"
      },
      "source": [
        "**Note:** You must be logged into Google to run this notebook. In the event the file `sp100_returns_10y.csv` is not already available, you would need to download it [here](https://github.com/brayvid/efficient-portfolio/blob/main/example/sp100_returns_10y.csv) (GitHub) and upload it to the notebook by clicking the folder button on the left and then the upload button. The base directory (which includes the folder `sample_data`) is typically `/content/` unless you connect your own cloud storage, in which case you must update the variable `dir` below to match your setup."
      ]
    },
    {
      "cell_type": "markdown",
      "metadata": {
        "id": "L3naRDXN_-B2"
      },
      "source": [
        "### Description"
      ]
    },
    {
      "cell_type": "markdown",
      "metadata": {
        "id": "sD05Gnr-i25V"
      },
      "source": [
        "In *An Analytic Derivation of the Efficient Portfolio Frontier* (1972), [Robert C. Merton](https://en.wikipedia.org/wiki/Robert_C._Merton) described an algorithm to construct a portfolio with the <ins>smallest variance in expected returns for a given level of expected returns</ins> (efficient). The algorithm takes as input a list of candidate securities and their historical annual returns as decimal values, and it outputs the fraction of the portfolio to be allocated to each. Each of these output percentages may be positive or negative corresponding to long and short positions, or zero when no position should be taken, but they will sum to 100%. The example below generates an allocation strategy using the whole S&P 100."
      ]
    },
    {
      "cell_type": "markdown",
      "metadata": {
        "id": "oVwVUfe-q1ci"
      },
      "source": [
        "### Inputs"
      ]
    },
    {
      "cell_type": "code",
      "metadata": {
        "id": "SAZEbX21iwxo"
      },
      "source": [
        "import numpy as np\n",
        "import pandas as pd"
      ],
      "execution_count": null,
      "outputs": []
    },
    {
      "cell_type": "code",
      "metadata": {
        "id": "r3iWXM4xDXfF"
      },
      "source": [
        "# Algorithm/program inputs\n",
        "\n",
        "# Provide a decimal value for expected annual returns (100% = 1.0)\n",
        "E = 0.25\n",
        "\n",
        "dir = '/content/'\n",
        "\n",
        "# Provide name of existing returns csv file\n",
        "rets = \"sp100_returns_10y.csv\"\n",
        "\n",
        "# Provide an ID string for the output file\n",
        "outString = \"sp100_alloc_10y\""
      ],
      "execution_count": null,
      "outputs": []
    },
    {
      "cell_type": "markdown",
      "metadata": {
        "id": "M2su1RKs_3V0"
      },
      "source": [
        "### Merton's algorithm\n",
        "[Read the paper](http://www.stat.ucla.edu/~nchristo/statistics_c183_c283/analytic_derivation_frontier.pdf)"
      ]
    },
    {
      "cell_type": "code",
      "metadata": {
        "id": "LmuV4gwMi1Ls"
      },
      "source": [
        "# Intermediate coeff A\n",
        "def A(Ei, Vij):\n",
        "  m = len(Ei)\n",
        "  outerS = 0\n",
        "  for k in range(m):\n",
        "    innerS = 0\n",
        "    for j in range(m):\n",
        "      innerS += Vij[k][j] * Ei[j]\n",
        "    outerS += innerS\n",
        "  return outerS\n",
        "\n",
        "# Intermediate coeff B\n",
        "def B(Ei, Vij):\n",
        "  m = len(Ei)\n",
        "  outerS = 0\n",
        "  for k in range(m):\n",
        "    innerS = 0\n",
        "    for j in range(m):\n",
        "      innerS += Vij[k][j] * Ei[j] * Ei[k]\n",
        "    outerS += innerS\n",
        "  return outerS\n",
        "\n",
        "# Intermediate coeff C\n",
        "def C(Ei, Vij):\n",
        "  m = len(Ei)\n",
        "  outerS = 0\n",
        "  for k in range(m):\n",
        "    innerS = 0\n",
        "    for j in range(m):\n",
        "      innerS += Vij[k][j]\n",
        "    outerS += innerS\n",
        "  return outerS\n",
        "\n",
        "# Intermediate coeff D\n",
        "def D(a, b, c):\n",
        "  return b * c - a * a\n",
        "\n",
        "# Calculation of each Xi\n",
        "def Xk(k, a, b, c, d, e, Vij, Ei):\n",
        "  m = len(Ei)\n",
        "  Lsum = 0\n",
        "  for j in range(m):\n",
        "    Lsum += (Vij[k][j] * (c * Ei[j] - a))\n",
        "  Rsum = 0\n",
        "  for j in range(m):\n",
        "    Rsum += (Vij[k][j] * (b -  a * Ei[j]))\n",
        "  return (e * Lsum + Rsum) / d\n",
        "\n",
        "def Merton(E, R):\n",
        "  avg_ret = np.mean(R,axis=1)\n",
        "  cov_mat = np.cov(R)\n",
        "  inv_cov = np.linalg.inv(cov_mat)\n",
        "  m = len(avg_ret)\n",
        "\n",
        "  # Coefficients\n",
        "  a = A(avg_ret, inv_cov)\n",
        "  b = B(avg_ret, inv_cov)\n",
        "  c = C(avg_ret, inv_cov)\n",
        "  d = D(a,b,c)\n",
        "\n",
        "  # Compute each Xi\n",
        "  outputX = np.zeros(m)\n",
        "  for k in range(m):\n",
        "    outputX[k] = Xk(k, a, b, c, d, E, inv_cov, avg_ret)\n",
        "  return outputX"
      ],
      "execution_count": null,
      "outputs": []
    },
    {
      "cell_type": "markdown",
      "metadata": {
        "id": "NIQyZ4e1BfAZ"
      },
      "source": [
        "### Runner code"
      ]
    },
    {
      "cell_type": "code",
      "metadata": {
        "colab": {
          "base_uri": "https://localhost:8080/"
        },
        "id": "nvkplo70Usu0",
        "outputId": "fa5e3a88-2059-4c33-ccd6-1364b7e25b53"
      },
      "source": [
        "# This cell runs the algorithm and displays the results.\n",
        "\n",
        "# # Historical returns data already generated so just read the csv file\n",
        "data = pd.read_csv(dir + rets,index_col=0,header=0)\n",
        "\n",
        "# Separate values from symbols\n",
        "R = data.values\n",
        "symbs = data.index\n",
        "\n",
        "# Compute distribution\n",
        "X = Merton(E, R)\n",
        "\n",
        "# Print results\n",
        "print('Assumed total annual return: '+ str(np.around(E*100,1)) + '%.\\n\\nMinimium-variance portfolio is:')\n",
        "for ind, val in enumerate(X):\n",
        "  print('X('+str(symbs[ind])+') =', str(np.around(100 * val)) + '%','(LONG)' if val > 0 else '(SHORT)')\n",
        "s = np.around(sum(X) * 100)\n",
        "rfx = 100 - s\n",
        "print('\\nSum of X =',str(s + rfx) + '%')\n",
        "\n",
        "# Save CSV file\n",
        "xdf = pd.DataFrame(data=X,index=symbs, columns=[\"Allocation\"])\n",
        "xdf.to_csv(dir + outString + '_' + 'E=' + str((E*100)) + '%.csv')"
      ],
      "execution_count": null,
      "outputs": [
        {
          "output_type": "stream",
          "text": [
            "Assumed total annual return: 25.0%.\n",
            "\n",
            "Minimium-variance portfolio is:\n",
            "X(AAPL) = 12.0% (LONG)\n",
            "X(ABT) = 4.0% (LONG)\n",
            "X(ACN) = -9.0% (SHORT)\n",
            "X(ADBE) = 1.0% (LONG)\n",
            "X(AIG) = -1.0% (SHORT)\n",
            "X(ALL) = 13.0% (LONG)\n",
            "X(AMGN) = 2.0% (LONG)\n",
            "X(AMT) = 38.0% (LONG)\n",
            "X(AMZN) = -3.0% (SHORT)\n",
            "X(AXP) = -20.0% (SHORT)\n",
            "X(BA) = 11.0% (LONG)\n",
            "X(BAC) = 5.0% (LONG)\n",
            "X(BIIB) = -5.0% (SHORT)\n",
            "X(BK) = -1.0% (SHORT)\n",
            "X(BKNG) = 1.0% (LONG)\n",
            "X(BLK) = 6.0% (LONG)\n",
            "X(BMY) = 14.0% (LONG)\n",
            "X(BRK-B) = 17.0% (LONG)\n",
            "X(C) = 7.0% (LONG)\n",
            "X(CAT) = -14.0% (SHORT)\n",
            "X(CHTR) = -4.0% (SHORT)\n",
            "X(CL) = -11.0% (SHORT)\n",
            "X(CMCSA) = -1.0% (SHORT)\n",
            "X(COF) = 4.0% (LONG)\n",
            "X(COP) = -13.0% (SHORT)\n",
            "X(COST) = -35.0% (SHORT)\n",
            "X(CRM) = 2.0% (LONG)\n",
            "X(CSCO) = -11.0% (SHORT)\n",
            "X(CVS) = -2.0% (SHORT)\n",
            "X(CVX) = 2.0% (LONG)\n",
            "X(DD) = 3.0% (LONG)\n",
            "X(DHR) = 17.0% (LONG)\n",
            "X(DIS) = -17.0% (SHORT)\n",
            "X(DUK) = 4.0% (LONG)\n",
            "X(EMR) = 6.0% (LONG)\n",
            "X(EXC) = 4.0% (LONG)\n",
            "X(F) = -2.0% (SHORT)\n",
            "X(FDX) = 3.0% (LONG)\n",
            "X(GD) = -7.0% (SHORT)\n",
            "X(GE) = -1.0% (SHORT)\n",
            "X(GILD) = -2.0% (SHORT)\n",
            "X(GM) = -4.0% (SHORT)\n",
            "X(GOOG) = 2.0% (LONG)\n",
            "X(GOOGL) = 0.0% (LONG)\n",
            "X(GS) = -3.0% (SHORT)\n",
            "X(HD) = 9.0% (LONG)\n",
            "X(HON) = -2.0% (SHORT)\n",
            "X(IBM) = -12.0% (SHORT)\n",
            "X(INTC) = -1.0% (SHORT)\n",
            "X(JNJ) = 5.0% (LONG)\n",
            "X(JPM) = -6.0% (SHORT)\n",
            "X(KO) = 5.0% (LONG)\n",
            "X(LLY) = -6.0% (SHORT)\n",
            "X(LMT) = -1.0% (SHORT)\n",
            "X(LOW) = 3.0% (LONG)\n",
            "X(MA) = 6.0% (LONG)\n",
            "X(MCD) = 17.0% (LONG)\n",
            "X(MDLZ) = -7.0% (SHORT)\n",
            "X(MDT) = -7.0% (SHORT)\n",
            "X(MET) = -8.0% (SHORT)\n",
            "X(MMM) = -3.0% (SHORT)\n",
            "X(MO) = 18.0% (LONG)\n",
            "X(MRK) = 40.0% (LONG)\n",
            "X(MS) = 2.0% (LONG)\n",
            "X(MSFT) = -3.0% (SHORT)\n",
            "X(NEE) = -2.0% (SHORT)\n",
            "X(NFLX) = 2.0% (LONG)\n",
            "X(NKE) = -2.0% (SHORT)\n",
            "X(NVDA) = -4.0% (SHORT)\n",
            "X(ORCL) = 8.0% (LONG)\n",
            "X(OXY) = 1.0% (LONG)\n",
            "X(PEP) = -11.0% (SHORT)\n",
            "X(PFE) = -1.0% (SHORT)\n",
            "X(PG) = -11.0% (SHORT)\n",
            "X(PM) = 1.0% (LONG)\n",
            "X(QCOM) = 0.0% (LONG)\n",
            "X(RTX) = 2.0% (LONG)\n",
            "X(SBUX) = 14.0% (LONG)\n",
            "X(SLB) = 0.0% (LONG)\n",
            "X(SO) = 5.0% (LONG)\n",
            "X(SPG) = -2.0% (SHORT)\n",
            "X(T) = 12.0% (LONG)\n",
            "X(TGT) = -3.0% (SHORT)\n",
            "X(TMO) = -3.0% (SHORT)\n",
            "X(TXN) = 1.0% (LONG)\n",
            "X(UNH) = 12.0% (LONG)\n",
            "X(UNP) = -4.0% (SHORT)\n",
            "X(UPS) = 4.0% (LONG)\n",
            "X(USB) = -3.0% (SHORT)\n",
            "X(V) = 4.0% (LONG)\n",
            "X(VZ) = 32.0% (LONG)\n",
            "X(WBA) = 8.0% (LONG)\n",
            "X(WFC) = 1.0% (LONG)\n",
            "X(WMT) = -7.0% (SHORT)\n",
            "X(XOM) = -13.0% (SHORT)\n",
            "\n",
            "Sum of X = 100.0%\n"
          ],
          "name": "stdout"
        }
      ]
    },
    {
      "cell_type": "code",
      "metadata": {
        "id": "GHRII4CpxZfE"
      },
      "source": [],
      "execution_count": null,
      "outputs": []
    }
  ]
}