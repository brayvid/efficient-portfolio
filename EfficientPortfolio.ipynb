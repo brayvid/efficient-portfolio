{
  "nbformat": 4,
  "nbformat_minor": 0,
  "metadata": {
    "colab": {
      "provenance": [],
      "include_colab_link": true
    },
    "kernelspec": {
      "name": "python3",
      "display_name": "Python 3"
    }
  },
  "cells": [
    {
      "cell_type": "markdown",
      "metadata": {
        "id": "view-in-github",
        "colab_type": "text"
      },
      "source": [
        "<a href=\"https://colab.research.google.com/github/brayvid/efficient-portfolio/blob/main/EfficientPortfolio.ipynb\" target=\"_parent\"><img src=\"https://colab.research.google.com/assets/colab-badge.svg\" alt=\"Open In Colab\"/></a>"
      ]
    },
    {
      "cell_type": "markdown",
      "source": [
        "<h1>Efficient Portfolio Construction</h1>\n",
        "<h4>Blake Rayvid - <a href=https://github.com/brayvid>https://github.com/brayvid</a></h4>"
      ],
      "metadata": {
        "id": "rKwjLdjDHy4F"
      }
    },
    {
      "cell_type": "markdown",
      "metadata": {
        "id": "sD05Gnr-i25V"
      },
      "source": [
        "In *An Analytic Derivation of the Efficient Portfolio Frontier* (1972), [Robert C. Merton](https://en.wikipedia.org/wiki/Robert_C._Merton) described an algorithm to construct a portfolio with the <ins>smallest variance in expected returns for a given level of expected returns</ins> (efficient). The algorithm takes as input a list of candidate securities and their historical annual returns as decimal values, and it outputs the fraction of the portfolio to be allocated to each. Each of these output percentages may be positive or negative corresponding to long and short positions, or zero when no position should be taken, but they will sum to 100%. The example below generates an allocation strategy using the whole S&P 100."
      ]
    },
    {
      "cell_type": "code",
      "metadata": {
        "colab": {
          "base_uri": "https://localhost:8080/"
        },
        "id": "nvkplo70Usu0",
        "outputId": "675e3ef2-e995-4d0d-b781-217aaebe2178"
      },
      "source": [
        "# -*- coding: utf-8 -*-\n",
        "# --- Final, Future-Proof, Single-Block Script ---\n",
        "\n",
        "# --- 1. Imports and Setup ---\n",
        "import numpy as np\n",
        "import pandas as pd\n",
        "import yfinance as yf\n",
        "from datetime import date\n",
        "\n",
        "# --- 2. Algorithm/Program Inputs ---\n",
        "E = 0.25 # Target annual return\n",
        "START_YEAR = 2010\n",
        "# Set the desired end year. The script will automatically adjust it if it's the current (incomplete) year.\n",
        "END_YEAR = 2025 # <-- Simulating that the current year is 2025\n",
        "\n",
        "# --- 3. Fetch S&P 100 Tickers ---\n",
        "print(\"Fetching S&P 100 ticker list from Wikipedia...\")\n",
        "try:\n",
        "    url = 'https://en.wikipedia.org/wiki/S%26P_100'\n",
        "    tables = pd.read_html(url)\n",
        "    tickers = tables[2]['Symbol'].tolist()\n",
        "    tickers = [ticker.replace('-', '.') for ticker in tickers]\n",
        "    print(f\"Successfully fetched {len(tickers)} tickers.\")\n",
        "except Exception as e:\n",
        "    print(f\"Could not fetch tickers from Wikipedia: {e}\")\n",
        "    tickers = []\n",
        "\n",
        "# --- 4. Fetch and Prepare Data ---\n",
        "if tickers:\n",
        "    # --- DYNAMIC DATE CORRECTION LOGIC ---\n",
        "    # This logic makes the script future-proof.\n",
        "    # We will simulate that today's date is in 2025 for this example.\n",
        "\n",
        "    # In a real scenario, this would be: today_year = date.today().year\n",
        "    today_year = 2025 # <-- SIMULATING THE CURRENT YEAR\n",
        "\n",
        "    last_full_year = today_year - 1\n",
        "\n",
        "    if END_YEAR >= today_year:\n",
        "        print(f\"\\n--- IMPORTANT DATA ADJUSTMENT ---\")\n",
        "        print(f\"Warning: The provided end year ({END_YEAR}) is the current (incomplete) year or in the future.\")\n",
        "        print(f\"Using last full year ({last_full_year}) for calculations to ensure data quality.\")\n",
        "        print(f\"----------------------------------\\n\")\n",
        "        END_YEAR = last_full_year\n",
        "    # --- END OF DYNAMIC LOGIC ---\n",
        "\n",
        "    start_date = f\"{START_YEAR}-01-01\"\n",
        "    end_date = f\"{END_YEAR}-12-31\"\n",
        "\n",
        "    print(f\"Downloading daily price data from {start_date} to {end_date}...\")\n",
        "    price_data = yf.download(tickers, start=start_date, end=end_date, group_by='ticker', progress=True)\n",
        "\n",
        "    valid_tickers = [t for t in tickers if t in price_data.columns.get_level_values(0) and not price_data[t].empty]\n",
        "    close_price_series = [price_data[ticker]['Close'].rename(ticker) for ticker in valid_tickers]\n",
        "    close_prices = pd.concat(close_price_series, axis=1)\n",
        "\n",
        "    print(f\"Successfully processed price data for {len(close_prices.columns)} tickers.\")\n",
        "\n",
        "    print(\"Calculating annual returns...\")\n",
        "    annual_returns = close_prices.resample('YE').last().pct_change()\n",
        "\n",
        "    annual_returns = annual_returns.dropna(how='all', axis=0)\n",
        "    original_cols = len(annual_returns.columns)\n",
        "    data = annual_returns.dropna(axis=1).T\n",
        "    data.columns = data.columns.year\n",
        "\n",
        "    print(f\"Data cleaned. Removed {original_cols - len(data.T.columns)} stocks with incomplete data.\")\n",
        "    print(f\"Using {len(data)} stocks for analysis.\")\n",
        "\n",
        "    # --- 5. Run Merton's Algorithm ---\n",
        "    R = data.values\n",
        "    symbs = data.index\n",
        "    avg_ret = np.mean(R, axis=1)\n",
        "    cov_mat = np.cov(R)\n",
        "    inv_cov = np.linalg.inv(cov_mat)\n",
        "    ones = np.ones(len(avg_ret))\n",
        "    a = ones.T @ inv_cov @ avg_ret\n",
        "    b = avg_ret.T @ inv_cov @ avg_ret\n",
        "    c = ones.T @ inv_cov @ ones\n",
        "    d = b * c - a**2\n",
        "    g_vector = (1/d) * (b * (inv_cov @ ones) - a * (inv_cov @ avg_ret))\n",
        "    h_vector = (1/d) * (c * (inv_cov @ avg_ret) - a * (inv_cov @ ones))\n",
        "    X = g_vector + h_vector * E\n",
        "\n",
        "    # --- 6. Analyze and Display Results ---\n",
        "    results_df = pd.DataFrame({'Allocation': X}, index=symbs)\n",
        "    portfolio_return = results_df['Allocation'].values @ avg_ret\n",
        "    portfolio_volatility = np.sqrt(results_df['Allocation'].values.T @ cov_mat @ results_df['Allocation'].values)\n",
        "\n",
        "    print(\"\\n--- Efficient Portfolio Analysis ---\")\n",
        "    print(f\"Target Annual Return: {E:.1%}\")\n",
        "    print(\"\\n--- Calculated Portfolio Characteristics ---\")\n",
        "    print(f\"Expected Annual Return:    {portfolio_return:.1%}\")\n",
        "    print(f\"Expected Annual Volatility (Risk): {portfolio_volatility:.1%}\")\n",
        "    sum_of_weights = results_df['Allocation'].sum()\n",
        "    print(f\"Sum of All Weights:        {sum_of_weights:.4%}\")\n",
        "\n",
        "    results_df_sorted = results_df.sort_values(by='Allocation', ascending=False)\n",
        "    print(\"\\n--- Top 5 Long Positions ---\")\n",
        "    print(results_df_sorted.head(5).to_string(formatters={'Allocation': '{:,.2%}'.format}))\n",
        "    print(\"\\n--- Top 5 Short Positions ---\")\n",
        "    print(results_df_sorted.tail(5).to_string(formatters={'Allocation': '{:,.2%}'.format}))\n",
        "\n",
        "    outString = \"sp100_alloc_future_proof\"\n",
        "    file_name = f\"./{outString}_E={E*100:.0f}%.csv\"\n",
        "    results_df_sorted.to_csv(file_name)\n",
        "    print(f\"\\nFull portfolio allocation saved to: {file_name}\")\n",
        "\n",
        "else:\n",
        "    print(\"\\nCould not fetch data. Halting execution.\")"
      ],
      "execution_count": 31,
      "outputs": [
        {
          "output_type": "stream",
          "name": "stdout",
          "text": [
            "Fetching S&P 100 ticker list from Wikipedia...\n",
            "Successfully fetched 101 tickers.\n",
            "\n",
            "--- IMPORTANT DATA ADJUSTMENT ---\n",
            "Warning: The provided end year (2025) is the current (incomplete) year or in the future.\n",
            "Using last full year (2024) for calculations to ensure data quality.\n",
            "----------------------------------\n",
            "\n",
            "Downloading daily price data from 2010-01-01 to 2024-12-31...\n"
          ]
        },
        {
          "output_type": "stream",
          "name": "stderr",
          "text": [
            "/tmp/ipython-input-1467679636.py:51: FutureWarning: YF.download() has changed argument auto_adjust default to True\n",
            "  price_data = yf.download(tickers, start=start_date, end=end_date, group_by='ticker', progress=True)\n",
            "[*********************100%***********************]  101 of 101 completed\n",
            "ERROR:yfinance:\n",
            "1 Failed download:\n",
            "ERROR:yfinance:['BRK.B']: YFTzMissingError('possibly delisted; no timezone found')\n"
          ]
        },
        {
          "output_type": "stream",
          "name": "stdout",
          "text": [
            "Successfully processed price data for 101 tickers.\n",
            "Calculating annual returns...\n",
            "Data cleaned. Removed 6 stocks with incomplete data.\n",
            "Using 95 stocks for analysis.\n",
            "\n",
            "--- Efficient Portfolio Analysis ---\n",
            "Target Annual Return: 25.0%\n",
            "\n",
            "--- Calculated Portfolio Characteristics ---\n",
            "Expected Annual Return:    27.0%\n",
            "Expected Annual Volatility (Risk): 0.0%\n",
            "Sum of All Weights:        100.0000%\n",
            "\n",
            "--- Top 5 Long Positions ---\n",
            "     Allocation\n",
            "MRK      86.09%\n",
            "ACN      57.91%\n",
            "VZ       51.37%\n",
            "PM       47.32%\n",
            "SBUX     45.47%\n",
            "\n",
            "--- Top 5 Short Positions ---\n",
            "     Allocation\n",
            "SO      -42.34%\n",
            "PG      -42.40%\n",
            "MDLZ    -47.41%\n",
            "HON     -47.77%\n",
            "CL      -50.24%\n",
            "\n",
            "Full portfolio allocation saved to: ./sp100_alloc_future_proof_E=25%.csv\n"
          ]
        },
        {
          "output_type": "stream",
          "name": "stderr",
          "text": [
            "/tmp/ipython-input-1467679636.py:60: FutureWarning: The default fill_method='pad' in DataFrame.pct_change is deprecated and will be removed in a future version. Either fill in any non-leading NA values prior to calling pct_change or specify 'fill_method=None' to not fill NA values.\n",
            "  annual_returns = close_prices.resample('YE').last().pct_change()\n"
          ]
        }
      ]
    },
    {
      "cell_type": "code",
      "metadata": {
        "id": "GHRII4CpxZfE"
      },
      "source": [],
      "execution_count": 16,
      "outputs": []
    }
  ]
}