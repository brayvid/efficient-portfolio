{
  "nbformat": 4,
  "nbformat_minor": 0,
  "metadata": {
    "colab": {
      "provenance": [],
      "toc_visible": true
    },
    "kernelspec": {
      "name": "python3",
      "display_name": "Python 3"
    }
  },
  "cells": [
    {
      "cell_type": "markdown",
      "metadata": {
        "id": "6gMV9mYg5ueS"
      },
      "source": [
        "### Modules\n"
      ]
    },
    {
      "cell_type": "code",
      "metadata": {
        "id": "EovpbeukmX4_"
      },
      "source": [
        "import numpy as np\n",
        "import pandas as pd"
      ],
      "execution_count": null,
      "outputs": []
    },
    {
      "cell_type": "markdown",
      "metadata": {
        "id": "pdaTQ26g5yqm"
      },
      "source": [
        "### Model"
      ]
    },
    {
      "cell_type": "code",
      "metadata": {
        "id": "lACAXxZzwUr3"
      },
      "source": [
        "# Intermediate coeff A\n",
        "def A(Ei, Vij):\n",
        "  m = len(Ei)\n",
        "  outerS = 0\n",
        "  for k in range(m):\n",
        "    innerS = 0\n",
        "    for j in range(m):\n",
        "      innerS += Vij[k][j] * Ei[j]\n",
        "    outerS += innerS\n",
        "  return outerS\n",
        "\n",
        "# Intermediate coeff B\n",
        "def B(Ei, Vij):\n",
        "  m = len(Ei)\n",
        "  outerS = 0\n",
        "  for k in range(m):\n",
        "    innerS = 0\n",
        "    for j in range(m):\n",
        "      innerS += Vij[k][j] * Ei[j] * Ei[k]\n",
        "    outerS += innerS\n",
        "  return outerS\n",
        "\n",
        "# Intermediate coeff C\n",
        "def C(Ei, Vij):\n",
        "  m = len(Ei)\n",
        "  outerS = 0\n",
        "  for k in range(m):\n",
        "    innerS = 0\n",
        "    for j in range(m):\n",
        "      innerS += Vij[k][j]\n",
        "    outerS += innerS\n",
        "  return outerS\n",
        "\n",
        "# Intermediate coeff D\n",
        "def D(a, b, c):\n",
        "  return b * c - a * a\n",
        "\n",
        "# Calculation of each Xi\n",
        "def Xk(k, a, b, c, d, e, Vij, Ei):\n",
        "  m = len(Ei)\n",
        "  Lsum = 0\n",
        "  for j in range(m):\n",
        "    Lsum += (Vij[k][j] * (c * Ei[j] - a))\n",
        "  Rsum = 0\n",
        "  for j in range(m):\n",
        "    Rsum += (Vij[k][j] * (b -  a * Ei[j]))\n",
        "  return (e * Lsum + Rsum) / d\n",
        "\n",
        "\n",
        "def XkR(k, a, b, c, r, e, Vij, Ei):\n",
        "  m = len(Ei)\n",
        "  Lsum = 0\n",
        "  for j in range(m):\n",
        "    Lsum += (Vij[k][j] * (Ei[j] - r))\n",
        "  return (e - r) * Lsum / (c*r*r - 2*a*r + b)\n",
        "\n",
        "\n",
        "\n",
        "def model_risky_only(E, R):\n",
        "  avg_ret = np.mean(R,axis=1)\n",
        "  cov_mat = np.cov(R)\n",
        "  inv_cov = np.linalg.inv(cov_mat)\n",
        "  m = len(avg_ret)\n",
        "\n",
        "  # Coefficients\n",
        "  a = A(avg_ret, inv_cov)\n",
        "  b = B(avg_ret, inv_cov)\n",
        "  c = C(avg_ret, inv_cov)\n",
        "  d = D(a,b,c)\n",
        "\n",
        "  # Compute each Xi\n",
        "  outputX = np.zeros(m)\n",
        "  for k in range(m):\n",
        "    outputX[k] = Xk(k, a, b, c, d, E, inv_cov, avg_ret)\n",
        "  return outputX\n",
        "\n",
        "\n",
        "def model_with_riskless(E, R, RFR):\n",
        "  avg_ret = np.mean(R,axis=1)\n",
        "  cov_mat = np.cov(R)\n",
        "  inv_cov = np.linalg.inv(cov_mat)\n",
        "  m = len(avg_ret)\n",
        "\n",
        "  # Coefficients\n",
        "  a = A(avg_ret, inv_cov)\n",
        "  b = B(avg_ret, inv_cov)\n",
        "  c = C(avg_ret, inv_cov)\n",
        "  # d = D(a,b,c)\n",
        "\n",
        "  # Compute each Xi\n",
        "  outputX = np.zeros(m)\n",
        "  for k in range(m):\n",
        "    outputX[k] = XkR(k, a, b, c, RFR, E, inv_cov, avg_ret)\n",
        "  # Calculate risk-free amt\n",
        "  # outputX[m] = 1 - np.sum(outputX[:-1])\n",
        "  print('One risk-free asset allowed.')\n",
        "\n",
        "  return outputX"
      ],
      "execution_count": null,
      "outputs": []
    },
    {
      "cell_type": "markdown",
      "metadata": {
        "id": "bbjKwXB-51xV"
      },
      "source": [
        "### Example"
      ]
    },
    {
      "cell_type": "code",
      "metadata": {
        "id": "VfwQhZpgmk5c",
        "outputId": "23f72bb3-e77c-4c06-9637-d8b83353e3ba",
        "colab": {
          "base_uri": "https://localhost:8080/",
          "height": 272
        }
      },
      "source": [
        "# Inputs\n",
        "# Desired average annual ROI\n",
        "E = 0.15\n",
        "RFR = 0.01\n",
        "\n",
        "# Historical returns data stored in Drive\n",
        "rois = '/content/drive/My Drive/MertonModelHistorical/rois.csv' # data from http://www.1stock1.com/1stock1_112.htm (manually cleaned)\n",
        "syms = '/content/drive/My Drive/MertonModelHistorical/syms.csv' # Data for these stocks: WMT, HD, KO, PG, VZ, TRV, BA, XOM\n",
        "\n",
        "# Calculations\n",
        "# Convert to numpy array\n",
        "rois_pd = pd.read_csv(rois)\n",
        "R = rois_pd.to_numpy()\n",
        "\n",
        "# convert to standard list\n",
        "syms_pd = pd.read_csv(syms)\n",
        "symbs = list(syms_pd.to_numpy())\n",
        "\n",
        "# Compute X (distribution)\n",
        "# X = model_risky_only(E, R)\n",
        "X = model_with_riskless(E, R, RFR)\n",
        "\n",
        "# Print results\n",
        "print('Assumed annual average ROI: '+ str(np.around(E*100,1)) + '%.\\n\\nMinimium-variance portfolio is:')\n",
        "for ind, val in enumerate(X):\n",
        "  print('X('+str(symbs[ind][0])+') =', str(np.around(100 * val)) + '%','(LONG)' if val > 0 else '(SHORT)')\n",
        "s = np.around(sum(X) * 100)\n",
        "rfx = 100 - s\n",
        "\n",
        "print('X(NORISK) = ' + str(rfx) + '%')\n",
        "print('\\nSum of X =',str(s + rfx) + '%')"
      ],
      "execution_count": null,
      "outputs": [
        {
          "output_type": "stream",
          "text": [
            "One risk-free asset allowed.\n",
            "Assumed annual average ROI: 15.0%.\n",
            "\n",
            "Minimium-variance portfolio is:\n",
            "X(WMT) = -5.0% (SHORT)\n",
            "X(HD) = 23.0% (LONG)\n",
            "X(KO) = -14.0% (SHORT)\n",
            "X(PG) = 60.0% (LONG)\n",
            "X(VZ) = -37.0% (SHORT)\n",
            "X(TRV) = 23.0% (LONG)\n",
            "X(BA) = 14.0% (LONG)\n",
            "X(XOM) = 26.0% (LONG)\n",
            "X(NORISK) = 11.0%\n",
            "\n",
            "Sum of X = 100.0%\n"
          ],
          "name": "stdout"
        }
      ]
    },
    {
      "cell_type": "code",
      "metadata": {
        "id": "fu7_6BXKHs1c"
      },
      "source": [],
      "execution_count": null,
      "outputs": []
    }
  ]
}